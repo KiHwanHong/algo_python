{
 "cells": [
  {
   "cell_type": "code",
   "execution_count": 1,
   "id": "46850042",
   "metadata": {},
   "outputs": [],
   "source": [
    "# 수의 합"
   ]
  },
  {
   "cell_type": "code",
   "execution_count": null,
   "id": "c05b5ab0",
   "metadata": {},
   "outputs": [],
   "source": [
    "n, m=map(int, input().split())\n",
    "a=list(map(int, input().split()))\n",
    "lt=0\n",
    "rt=1\n",
    "tot=a[0]\n",
    "cnt=0\n",
    "while True:\n",
    "    if tot<m:\n",
    "        if rt<n:\n",
    "            tot+=a[rt]\n",
    "            rt+1\n",
    "        else:\n",
    "            break\n",
    "    elif tot==m:\n",
    "        cnt+=1\n",
    "        tot-=a[lt]\n",
    "        lt+=1\n",
    "    else:\n",
    "        tot-=a[lt]\n",
    "        lt+=1"
   ]
  }
 ],
 "metadata": {
  "kernelspec": {
   "display_name": "Python 3 (ipykernel)",
   "language": "python",
   "name": "python3"
  },
  "language_info": {
   "codemirror_mode": {
    "name": "ipython",
    "version": 3
   },
   "file_extension": ".py",
   "mimetype": "text/x-python",
   "name": "python",
   "nbconvert_exporter": "python",
   "pygments_lexer": "ipython3",
   "version": "3.8.2"
  }
 },
 "nbformat": 4,
 "nbformat_minor": 5
}
