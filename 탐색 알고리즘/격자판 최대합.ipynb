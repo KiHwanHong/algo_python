{
 "cells": [
  {
   "cell_type": "code",
   "execution_count": 1,
   "id": "cf6cf0eb",
   "metadata": {},
   "outputs": [],
   "source": [
    "# 격자판 최대합"
   ]
  },
  {
   "cell_type": "code",
   "execution_count": null,
   "id": "1a91da8c",
   "metadata": {},
   "outputs": [],
   "source": [
    "n=int(input())\n",
    "a=[list(map(int, input().split())) for _ in range(n)]\n",
    "largest=-2147000000\n",
    "for i in range(n):\n",
    "    sum1=sum2=0\n",
    "    for j in range(n):\n",
    "        sum1+=a[i][j]\n",
    "        sum2+=a[j][i]\n",
    "    if sum1>largest:\n",
    "        largest=sum1\n",
    "    if sum2>largest:\n",
    "        largest=sum2\n",
    "sum1=sum2=0\n",
    "for i in range(n):\n",
    "    sum1+=a[i][i]\n",
    "    sum2+=a[i][n-i-1]\n",
    "if sum1>largest:\n",
    "    largest=sum1\n",
    "if sum2>largest:\n",
    "    largest=sum2\n",
    "print(largest)    \n",
    "\n",
    "\n"
   ]
  },
  {
   "cell_type": "code",
   "execution_count": null,
   "id": "097ea8d2",
   "metadata": {},
   "outputs": [],
   "source": []
  }
 ],
 "metadata": {
  "kernelspec": {
   "display_name": "Python 3 (ipykernel)",
   "language": "python",
   "name": "python3"
  },
  "language_info": {
   "codemirror_mode": {
    "name": "ipython",
    "version": 3
   },
   "file_extension": ".py",
   "mimetype": "text/x-python",
   "name": "python",
   "nbconvert_exporter": "python",
   "pygments_lexer": "ipython3",
   "version": "3.8.2"
  }
 },
 "nbformat": 4,
 "nbformat_minor": 5
}
