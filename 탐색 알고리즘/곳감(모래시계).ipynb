{
 "cells": [
  {
   "cell_type": "code",
   "execution_count": 1,
   "id": "f7022ab8",
   "metadata": {},
   "outputs": [],
   "source": [
    "# 곳감(모래시계)"
   ]
  },
  {
   "cell_type": "code",
   "execution_count": 2,
   "id": "b552de8e",
   "metadata": {},
   "outputs": [
    {
     "ename": "SyntaxError",
     "evalue": "unexpected EOF while parsing (729980397.py, line 15)",
     "output_type": "error",
     "traceback": [
      "\u001b[0;36m  File \u001b[0;32m\"/var/folders/60/t6rh8cpn7kx1234vsrfwk9lm0000gn/T/ipykernel_5670/729980397.py\"\u001b[0;36m, line \u001b[0;32m15\u001b[0m\n\u001b[0;31m    for i in range(n):\u001b[0m\n\u001b[0m                      ^\u001b[0m\n\u001b[0;31mSyntaxError\u001b[0m\u001b[0;31m:\u001b[0m unexpected EOF while parsing\n"
     ]
    }
   ],
   "source": [
    "n=int(input())\n",
    "a=[list(map(int, input().split())) for _ in range(n)]\n",
    "m=int(input())\n",
    "for i in range(m):\n",
    "    h, t, k=map(int, input().split())\n",
    "    if t==0:\n",
    "        for _ in range(k):\n",
    "            a[h-1].append(a[h-1].pop(0))\n",
    "    else:\n",
    "        for _ in range(k):\n",
    "            a[h-1].insert(0, a[h-1].pop())\n",
    "res=0\n",
    "s=0\n",
    "e=n-1\n",
    "for i in range(n):\n",
    "    for j in range(s, e+1):\n",
    "        res+=a[i][j]\n",
    "    if i<n//2:\n",
    "        s+=1\n",
    "        e-=1\n",
    "    else:\n",
    "        s-=1\n",
    "        e+=1\n",
    "print(res)"
   ]
  },
  {
   "cell_type": "code",
   "execution_count": null,
   "id": "db0fde00",
   "metadata": {},
   "outputs": [],
   "source": [
    "\n"
   ]
  }
 ],
 "metadata": {
  "kernelspec": {
   "display_name": "Python 3 (ipykernel)",
   "language": "python",
   "name": "python3"
  },
  "language_info": {
   "codemirror_mode": {
    "name": "ipython",
    "version": 3
   },
   "file_extension": ".py",
   "mimetype": "text/x-python",
   "name": "python",
   "nbconvert_exporter": "python",
   "pygments_lexer": "ipython3",
   "version": "3.8.2"
  }
 },
 "nbformat": 4,
 "nbformat_minor": 5
}
