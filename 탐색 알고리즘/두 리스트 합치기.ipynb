{
 "cells": [
  {
   "cell_type": "code",
   "execution_count": 2,
   "id": "d3377682",
   "metadata": {},
   "outputs": [],
   "source": [
    "# 두 리스트 합치기\n"
   ]
  },
  {
   "cell_type": "code",
   "execution_count": null,
   "id": "286e22b0",
   "metadata": {},
   "outputs": [],
   "source": [
    "n=int(input())\n",
    "a=list(map(int, input().split()))\n",
    "m=int(input())\n",
    "b=list(map(int, input().split()))\n",
    "p1=p2=0\n",
    "c=[]\n",
    "while p1<n and p2<m:\n",
    "    if a[p1]<=b[p2]:\n",
    "        c.append(a[p1])\n",
    "        p1+=1\n",
    "    else:\n",
    "        c.append(b[p2])\n",
    "        p2+=1\n",
    "\n",
    "if p1<n:\n",
    "    c=c+a[p1:]\n",
    "if p2<m:\n",
    "    c=c+b[p2:]\n"
   ]
  }
 ],
 "metadata": {
  "kernelspec": {
   "display_name": "Python 3 (ipykernel)",
   "language": "python",
   "name": "python3"
  },
  "language_info": {
   "codemirror_mode": {
    "name": "ipython",
    "version": 3
   },
   "file_extension": ".py",
   "mimetype": "text/x-python",
   "name": "python",
   "nbconvert_exporter": "python",
   "pygments_lexer": "ipython3",
   "version": "3.8.2"
  }
 },
 "nbformat": 4,
 "nbformat_minor": 5
}
