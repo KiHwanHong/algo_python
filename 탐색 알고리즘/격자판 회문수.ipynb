{
 "cells": [
  {
   "cell_type": "code",
   "execution_count": 1,
   "id": "91dc6e2e",
   "metadata": {},
   "outputs": [],
   "source": [
    "# 격자판 회문수"
   ]
  },
  {
   "cell_type": "code",
   "execution_count": null,
   "id": "e5b1a76c",
   "metadata": {},
   "outputs": [],
   "source": [
    "board=[list(map(int, input().split())) for _ in range(7)]\n",
    "cnt=0\n",
    "for i in range(3):\n",
    "    for j in range(7):\n",
    "        tmp=board[j][i:i+5]\n",
    "        if tmp==tmp[::-1]:\n",
    "            cnt+=1\n",
    "        for k in range(2):\n",
    "            if board[i+k][j]!=board[i+5-k-1][j]:\n",
    "                break\n",
    "        else:\n",
    "            cnt+=1\n",
    "print(cnt)            "
   ]
  },
  {
   "cell_type": "code",
   "execution_count": null,
   "id": "cebfa16b",
   "metadata": {},
   "outputs": [],
   "source": []
  }
 ],
 "metadata": {
  "kernelspec": {
   "display_name": "Python 3 (ipykernel)",
   "language": "python",
   "name": "python3"
  },
  "language_info": {
   "codemirror_mode": {
    "name": "ipython",
    "version": 3
   },
   "file_extension": ".py",
   "mimetype": "text/x-python",
   "name": "python",
   "nbconvert_exporter": "python",
   "pygments_lexer": "ipython3",
   "version": "3.8.2"
  }
 },
 "nbformat": 4,
 "nbformat_minor": 5
}
