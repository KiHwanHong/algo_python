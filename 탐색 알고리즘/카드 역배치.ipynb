{
 "cells": [
  {
   "cell_type": "code",
   "execution_count": 1,
   "id": "562bb415",
   "metadata": {},
   "outputs": [],
   "source": [
    "# 카드 역배치"
   ]
  },
  {
   "cell_type": "code",
   "execution_count": null,
   "id": "7f886222",
   "metadata": {},
   "outputs": [],
   "source": [
    "a=list(range(21))\n",
    "for _ in range(10):\n",
    "    s, e = map(int, input().split())\n",
    "    for i in range((e-s+1)//2):\n",
    "        a[s+i], a[e-i]=a[e-i], a[s+i]\n",
    "a.pop(0)\n",
    "for x in a:\n",
    "    print(x, end=' ')"
   ]
  },
  {
   "cell_type": "code",
   "execution_count": null,
   "id": "053578fa",
   "metadata": {},
   "outputs": [],
   "source": []
  }
 ],
 "metadata": {
  "kernelspec": {
   "display_name": "Python 3 (ipykernel)",
   "language": "python",
   "name": "python3"
  },
  "language_info": {
   "codemirror_mode": {
    "name": "ipython",
    "version": 3
   },
   "file_extension": ".py",
   "mimetype": "text/x-python",
   "name": "python",
   "nbconvert_exporter": "python",
   "pygments_lexer": "ipython3",
   "version": "3.8.2"
  }
 },
 "nbformat": 4,
 "nbformat_minor": 5
}
