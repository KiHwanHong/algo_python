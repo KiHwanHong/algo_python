{
 "cells": [
  {
   "cell_type": "code",
   "execution_count": 1,
   "id": "f5778397",
   "metadata": {},
   "outputs": [],
   "source": [
    "# 봉우리"
   ]
  },
  {
   "cell_type": "code",
   "execution_count": null,
   "id": "1c88dde3",
   "metadata": {},
   "outputs": [],
   "source": [
    "dx=[-1, 0, 1, 0]\n",
    "dy=[0, 1, 0, -1]\n",
    "\n",
    "n=int(input())\n",
    "a=[list(map(int, input().split())) for _ in range(n)]\n",
    "a.insert(0, [0]*n)\n",
    "a.append([0]*n)\n",
    "for x in a:\n",
    "    x.insert(0, 0)\n",
    "    x.append(0)\n",
    "cnt=0\n",
    "for i in range(1, n+1):\n",
    "    for j in range(1, n+1):\n",
    "        if all(a[i][j]>a[i+dx[k]][j+dy[k]] for k in range(4)):\n",
    "            cnt+=1\n",
    "print(cnt)"
   ]
  }
 ],
 "metadata": {
  "kernelspec": {
   "display_name": "Python 3 (ipykernel)",
   "language": "python",
   "name": "python3"
  },
  "language_info": {
   "codemirror_mode": {
    "name": "ipython",
    "version": 3
   },
   "file_extension": ".py",
   "mimetype": "text/x-python",
   "name": "python",
   "nbconvert_exporter": "python",
   "pygments_lexer": "ipython3",
   "version": "3.8.2"
  }
 },
 "nbformat": 4,
 "nbformat_minor": 5
}
