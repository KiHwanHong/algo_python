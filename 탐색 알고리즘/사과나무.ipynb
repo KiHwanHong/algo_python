{
 "cells": [
  {
   "cell_type": "code",
   "execution_count": 1,
   "id": "4e3279d4",
   "metadata": {},
   "outputs": [],
   "source": [
    "# 사과나무"
   ]
  },
  {
   "cell_type": "code",
   "execution_count": null,
   "id": "71d282e3",
   "metadata": {},
   "outputs": [],
   "source": [
    "n=int(input())\n",
    "a=[list(map(int, input().split())) for _ in range(n)]\n",
    "res=0\n",
    "s=e=n//2\n",
    "for i in range(n):\n",
    "    for j in range(s, e+1):\n",
    "        res+=a[i][j]\n",
    "    if i<n//2:\n",
    "        s-=1\n",
    "        e+=1\n",
    "    else:\n",
    "        s+=1\n",
    "        e-=1\n",
    "print(res)"
   ]
  }
 ],
 "metadata": {
  "kernelspec": {
   "display_name": "Python 3 (ipykernel)",
   "language": "python",
   "name": "python3"
  },
  "language_info": {
   "codemirror_mode": {
    "name": "ipython",
    "version": 3
   },
   "file_extension": ".py",
   "mimetype": "text/x-python",
   "name": "python",
   "nbconvert_exporter": "python",
   "pygments_lexer": "ipython3",
   "version": "3.8.2"
  }
 },
 "nbformat": 4,
 "nbformat_minor": 5
}
