{
 "cells": [
  {
   "cell_type": "code",
   "execution_count": null,
   "id": "b3b402b1",
   "metadata": {},
   "outputs": [],
   "source": [
    "# 회문 문자열검사"
   ]
  },
  {
   "cell_type": "code",
   "execution_count": null,
   "id": "e65f8ded",
   "metadata": {},
   "outputs": [],
   "source": [
    "n=int(input())\n",
    "for i in range(n):\n",
    "    s = input()\n",
    "    s = s.upper()\n",
    "    size=len(s)\n",
    "    for j in range(size//2):\n",
    "        if s[j] != s[-1-j]:\n",
    "            print(\"#%d NO\" %(i+1))\n",
    "            break\n",
    "    else:\n",
    "        print(\"#%d YES\" %(i+1))"
   ]
  }
 ],
 "metadata": {
  "kernelspec": {
   "display_name": "Python 3 (ipykernel)",
   "language": "python",
   "name": "python3"
  },
  "language_info": {
   "codemirror_mode": {
    "name": "ipython",
    "version": 3
   },
   "file_extension": ".py",
   "mimetype": "text/x-python",
   "name": "python",
   "nbconvert_exporter": "python",
   "pygments_lexer": "ipython3",
   "version": "3.8.2"
  }
 },
 "nbformat": 4,
 "nbformat_minor": 5
}
