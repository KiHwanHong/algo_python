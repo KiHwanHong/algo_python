{
 "cells": [
  {
   "cell_type": "code",
   "execution_count": 2,
   "id": "9d66f8ae",
   "metadata": {},
   "outputs": [],
   "source": [
    "# 숫자만 추출문제\n",
    "# g0en2Ts8eSoft"
   ]
  },
  {
   "cell_type": "code",
   "execution_count": 6,
   "id": "18b5f7ec",
   "metadata": {},
   "outputs": [
    {
     "name": "stdout",
     "output_type": "stream",
     "text": [
      "g0en2Ts8eSoft\n",
      "28\n",
      "6\n"
     ]
    }
   ],
   "source": [
    "s=input()\n",
    "res=0\n",
    "for x in s:\n",
    "    if x.isdecimal():\n",
    "        res=res*10+int(x)\n",
    "print(res)\n",
    "cnt=0\n",
    "for i in range(1, res+1):\n",
    "    if res%i==0:\n",
    "        cnt+=1\n",
    "print(cnt)"
   ]
  }
 ],
 "metadata": {
  "kernelspec": {
   "display_name": "Python 3 (ipykernel)",
   "language": "python",
   "name": "python3"
  },
  "language_info": {
   "codemirror_mode": {
    "name": "ipython",
    "version": 3
   },
   "file_extension": ".py",
   "mimetype": "text/x-python",
   "name": "python",
   "nbconvert_exporter": "python",
   "pygments_lexer": "ipython3",
   "version": "3.8.2"
  }
 },
 "nbformat": 4,
 "nbformat_minor": 5
}
